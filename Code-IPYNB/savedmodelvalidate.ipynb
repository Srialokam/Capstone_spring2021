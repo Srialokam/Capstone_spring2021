{
  "nbformat": 4,
  "nbformat_minor": 0,
  "metadata": {
    "colab": {
      "name": "savedmodelvalidate.ipynb",
      "provenance": []
    },
    "kernelspec": {
      "name": "python3",
      "display_name": "Python 3"
    },
    "language_info": {
      "name": "python"
    }
  },
  "cells": [
    {
      "cell_type": "markdown",
      "metadata": {
        "id": "WQL9YuBcdfSM"
      },
      "source": [
        "# Pre-Installation of saved data and Libraries Requires"
      ]
    },
    {
      "cell_type": "code",
      "metadata": {
        "colab": {
          "base_uri": "https://localhost:8080/"
        },
        "id": "0AM5Lyuqs7x_",
        "outputId": "8714f284-9087-42c3-cdcb-17dd53a27cf0"
      },
      "source": [
        "from google.colab import drive\n",
        "drive.mount('/content/drive')"
      ],
      "execution_count": 1,
      "outputs": [
        {
          "output_type": "stream",
          "text": [
            "Mounted at /content/drive\n"
          ],
          "name": "stdout"
        }
      ]
    },
    {
      "cell_type": "code",
      "metadata": {
        "id": "Y4vxsY6CtIcK"
      },
      "source": [
        "import os\n",
        "import glob\n",
        "import time\n",
        "import pickle\n",
        "import numpy as np\n",
        "import cv2\n",
        "import pickle\n",
        "from matplotlib import pyplot as plt\n",
        "from keras import applications\n",
        "from keras.applications.vgg19 import preprocess_input\n",
        "from keras.preprocessing import image\n",
        "from keras import applications\n",
        "from keras.models import Model\n",
        "from sklearn.svm import LinearSVC\n",
        "from sklearn.metrics import accuracy_score\n",
        "from sklearn.model_selection import train_test_split\n",
        "from sklearn.model_selection import cross_val_score"
      ],
      "execution_count": 2,
      "outputs": []
    },
    {
      "cell_type": "code",
      "metadata": {
        "id": "oAhmDxXAdsf7"
      },
      "source": [
        "binary_model=pickle.load(open('/content/drive/MyDrive/Capstone_606/Features/Models/new_binary_class_vgg19model_svm.sav', 'rb'))\n",
        "multi_model=pickle.load(open('/content/drive/MyDrive/Capstone_606/Features/Models/new_multi_class_vgg19model_vgg19_svm.sav', 'rb'))"
      ],
      "execution_count": 3,
      "outputs": []
    },
    {
      "cell_type": "markdown",
      "metadata": {
        "id": "LM0iRG-t2Pqd"
      },
      "source": [
        "# Implementation of models loaded to extract final results\n",
        "\n",
        "\n",
        "\n"
      ]
    },
    {
      "cell_type": "code",
      "metadata": {
        "id": "YiA9TE666XGq"
      },
      "source": [
        "def img_preProcess(img):\n",
        "  pp1=image.img_to_array(img)\n",
        "  pp1=np.expand_dims(pp1, axis=0)\n",
        "  pp1=preprocess_input(pp1)\n",
        "  return pp1"
      ],
      "execution_count": 4,
      "outputs": []
    },
    {
      "cell_type": "code",
      "metadata": {
        "id": "EMYiMNdkRJdp"
      },
      "source": [
        "# To chnage frame rate of a video 1 fps\n",
        "# ffmpeg -i Umpire_Signal.mp4 -r 1 output2.mp4"
      ],
      "execution_count": null,
      "outputs": []
    },
    {
      "cell_type": "code",
      "metadata": {
        "id": "vLXLErcsu8kW"
      },
      "source": [
        "import cv2\n",
        "def video_stats(video):\n",
        "  cam = cv2.VideoCapture(video)\n",
        "  fps = cam.get(cv2.CAP_PROP_FPS)\n",
        "  print(\"frame rate\" ,int(fps),\"FramesPerSecond\")\n",
        "  print(\"Duration of the video\",cam.get(cv2.CAP_PROP_FRAME_COUNT)/fps)"
      ],
      "execution_count": 5,
      "outputs": []
    },
    {
      "cell_type": "code",
      "metadata": {
        "colab": {
          "base_uri": "https://localhost:8080/"
        },
        "id": "zm5iTpQ9dFZl",
        "outputId": "de6fa8c2-1a9b-4fef-c74a-1484a72f9e61"
      },
      "source": [
        "video_stats('/content/drive/MyDrive/Capstone_606/Data/Out_six.mp4')"
      ],
      "execution_count": 6,
      "outputs": [
        {
          "output_type": "stream",
          "text": [
            "frame rate 25 FramesPerSecond\n",
            "Duration of the video 31.24640625\n"
          ],
          "name": "stdout"
        }
      ]
    },
    {
      "cell_type": "code",
      "metadata": {
        "colab": {
          "base_uri": "https://localhost:8080/",
          "height": 37
        },
        "id": "P-QRbzE2t3rI",
        "outputId": "7d5f4046-0f16-4a27-effb-a1b478b4f6d3"
      },
      "source": [
        "import os\n",
        "os.getcwd()"
      ],
      "execution_count": 7,
      "outputs": [
        {
          "output_type": "execute_result",
          "data": {
            "application/vnd.google.colaboratory.intrinsic+json": {
              "type": "string"
            },
            "text/plain": [
              "'/content'"
            ]
          },
          "metadata": {
            "tags": []
          },
          "execution_count": 7
        }
      ]
    },
    {
      "cell_type": "code",
      "metadata": {
        "id": "lOe029x6kA4v"
      },
      "source": [
        "os.mkdir('/content/data_frame_demo')"
      ],
      "execution_count": 8,
      "outputs": []
    },
    {
      "cell_type": "markdown",
      "metadata": {
        "id": "foJs30XCcszH"
      },
      "source": [
        "Breaking video into frames and save them in temporary directory"
      ]
    },
    {
      "cell_type": "code",
      "metadata": {
        "id": "jPH1pmZajaeG"
      },
      "source": [
        "video_input='/content/drive/MyDrive/Capstone_606/Data/Out_six.mp4'"
      ],
      "execution_count": 9,
      "outputs": []
    },
    {
      "cell_type": "code",
      "metadata": {
        "id": "iUXmZiOpoeCm"
      },
      "source": [
        "import cv2\n",
        "import numpy as np\n",
        "import os\n",
        "frame_list=[]\n",
        "c=0\n",
        "vid_cap = cv2.VideoCapture(video_input)\n",
        "while (vid_cap.isOpened()):\n",
        "  ret, frame = vid_cap.read()\n",
        "  if ret == False:\n",
        "    break\n",
        "  c=c+1\n",
        "  cv2.imwrite('/content/data_frame_demo/'+\"%d.jpg\" % c, frame)\n",
        "vid_cap.release()\n",
        "cv2.destroyAllWindows()"
      ],
      "execution_count": 10,
      "outputs": []
    },
    {
      "cell_type": "code",
      "metadata": {
        "colab": {
          "base_uri": "https://localhost:8080/"
        },
        "id": "bFMxaLn4U6zM",
        "outputId": "cf9ee63d-09be-4f91-a17f-f47f9b316942"
      },
      "source": [
        "print(\"Number of frames captured\",len(os.listdir('/content/data_frame_demo')))"
      ],
      "execution_count": 11,
      "outputs": [
        {
          "output_type": "stream",
          "text": [
            "Number of frames captured 706\n"
          ],
          "name": "stdout"
        }
      ]
    },
    {
      "cell_type": "code",
      "metadata": {
        "id": "2W_dKxa3tMBj",
        "colab": {
          "base_uri": "https://localhost:8080/"
        },
        "outputId": "70ab54f6-34a4-4fb1-fa0a-b6cccf09a895"
      },
      "source": [
        "\n",
        "import cv2\n",
        "import pandas as pd\n",
        "time_dict={}\n",
        "noball=[]\n",
        "out=[]\n",
        "six=[]\n",
        "wide=[]\n",
        "noaction=[]\n",
        "cam = cv2.VideoCapture(video_input)\n",
        "fps = cam.get(cv2.CAP_PROP_FPS)\n",
        "base_model = applications.vgg19.VGG19(include_top=True, weights='imagenet', input_tensor=None,\n",
        "                                      input_shape=None, pooling=None, classes=1000)\n",
        "model_load_path='/content/drive/MyDrive/Capstone_606/Features'\n",
        "\n",
        "model = Model(base_model.input, base_model.get_layer('fc1').output)\n",
        "binary_model = pickle.load(open('/content/drive/MyDrive/Capstone_606/Features/Models/new_binary_class_vgg19model_svm.sav', 'rb'))\n",
        "multi_model = pickle.load(open('/content/drive/MyDrive/Capstone_606/Features/Models/new_multi_class_vgg19model_vgg19_svm.sav', 'rb'))\n",
        "\n",
        "frame_num=2*fps\n",
        "frame_num=int(frame_num)\n",
        "while(frame_num<len(os.listdir('/content/data_frame_demo'))):\n",
        "  img = cv2.imread('/content/data_frame_demo/'+str(frame_num)+'.jpg')\n",
        "  img2 = cv2.resize(img, (224, 224))\n",
        "  frame_num=frame_num+int(fps/2)\n",
        "  x=img_preProcess(img2)\n",
        "  features = model(x) \n",
        "  predicted_values = binary_model.predict(features)\n",
        "  if predicted_values==[2]:\n",
        "    print(\"Umpire Found\")\n",
        "    predicted_values_2 = multi_model.predict(features)\n",
        "    choices = {'1':'noball', '2':'out', '3':'six', '4':'wide', '5':'noaction'}\n",
        "    result = choices.get(np.str(int(predicted_values_2)), 'default')\n",
        "    if result == 'noball':\n",
        "        noball.append(frame_num)\n",
        "        #time_dict[count]='noball'\n",
        "    elif result == 'out':\n",
        "      out.append(frame_num)\n",
        "        #time_dict[count]='out'\n",
        "    elif result == 'six':\n",
        "      six.append(frame_num)\n",
        "        #time_dict[count]='six'\n",
        "    elif result == 'wide':\n",
        "      wide.append(frame_num)\n",
        "        #time_dict[count]='wide'\n",
        "    elif result == 'noaction':\n",
        "      noaction.append(frame_num)\n",
        "        #time_dict[count]='noaction'\n",
        "time_dict[\"No_Ball\"]=noball\n",
        "time_dict[\"Out\"]=out\n",
        "time_dict[\"Six\"]=six\n",
        "time_dict[\"Wide\"]=wide\n",
        "time_dict[\"No_Action\"]=noaction\n",
        "summary_df=pd.DataFrame(dict([ (k,pd.Series(v)) for k,v in time_dict.items() ]))\n",
        "cv2.destroyAllWindows()"
      ],
      "execution_count": 12,
      "outputs": [
        {
          "output_type": "stream",
          "text": [
            "Downloading data from https://storage.googleapis.com/tensorflow/keras-applications/vgg19/vgg19_weights_tf_dim_ordering_tf_kernels.h5\n",
            "574717952/574710816 [==============================] - 9s 0us/step\n",
            "Umpire Found\n",
            "Umpire Found\n",
            "Umpire Found\n",
            "Umpire Found\n",
            "Umpire Found\n",
            "Umpire Found\n",
            "Umpire Found\n",
            "Umpire Found\n",
            "Umpire Found\n"
          ],
          "name": "stdout"
        },
        {
          "output_type": "stream",
          "text": [
            "/usr/local/lib/python3.7/dist-packages/ipykernel_launcher.py:54: DeprecationWarning: The default dtype for empty Series will be 'object' instead of 'float64' in a future version. Specify a dtype explicitly to silence this warning.\n"
          ],
          "name": "stderr"
        }
      ]
    },
    {
      "cell_type": "code",
      "metadata": {
        "colab": {
          "base_uri": "https://localhost:8080/",
          "height": 204
        },
        "id": "OKT9BM9uci4H",
        "outputId": "d0432caf-589c-43a5-8a5c-999c5d6c2837"
      },
      "source": [
        "summary_df.head()"
      ],
      "execution_count": 13,
      "outputs": [
        {
          "output_type": "execute_result",
          "data": {
            "text/html": [
              "<div>\n",
              "<style scoped>\n",
              "    .dataframe tbody tr th:only-of-type {\n",
              "        vertical-align: middle;\n",
              "    }\n",
              "\n",
              "    .dataframe tbody tr th {\n",
              "        vertical-align: top;\n",
              "    }\n",
              "\n",
              "    .dataframe thead th {\n",
              "        text-align: right;\n",
              "    }\n",
              "</style>\n",
              "<table border=\"1\" class=\"dataframe\">\n",
              "  <thead>\n",
              "    <tr style=\"text-align: right;\">\n",
              "      <th></th>\n",
              "      <th>No_Ball</th>\n",
              "      <th>Out</th>\n",
              "      <th>Six</th>\n",
              "      <th>Wide</th>\n",
              "      <th>No_Action</th>\n",
              "    </tr>\n",
              "  </thead>\n",
              "  <tbody>\n",
              "    <tr>\n",
              "      <th>0</th>\n",
              "      <td>NaN</td>\n",
              "      <td>158</td>\n",
              "      <td>542.0</td>\n",
              "      <td>NaN</td>\n",
              "      <td>NaN</td>\n",
              "    </tr>\n",
              "    <tr>\n",
              "      <th>1</th>\n",
              "      <td>NaN</td>\n",
              "      <td>170</td>\n",
              "      <td>554.0</td>\n",
              "      <td>NaN</td>\n",
              "      <td>NaN</td>\n",
              "    </tr>\n",
              "    <tr>\n",
              "      <th>2</th>\n",
              "      <td>NaN</td>\n",
              "      <td>506</td>\n",
              "      <td>566.0</td>\n",
              "      <td>NaN</td>\n",
              "      <td>NaN</td>\n",
              "    </tr>\n",
              "    <tr>\n",
              "      <th>3</th>\n",
              "      <td>NaN</td>\n",
              "      <td>518</td>\n",
              "      <td>578.0</td>\n",
              "      <td>NaN</td>\n",
              "      <td>NaN</td>\n",
              "    </tr>\n",
              "    <tr>\n",
              "      <th>4</th>\n",
              "      <td>NaN</td>\n",
              "      <td>530</td>\n",
              "      <td>NaN</td>\n",
              "      <td>NaN</td>\n",
              "      <td>NaN</td>\n",
              "    </tr>\n",
              "  </tbody>\n",
              "</table>\n",
              "</div>"
            ],
            "text/plain": [
              "   No_Ball  Out    Six  Wide  No_Action\n",
              "0      NaN  158  542.0   NaN        NaN\n",
              "1      NaN  170  554.0   NaN        NaN\n",
              "2      NaN  506  566.0   NaN        NaN\n",
              "3      NaN  518  578.0   NaN        NaN\n",
              "4      NaN  530    NaN   NaN        NaN"
            ]
          },
          "metadata": {
            "tags": []
          },
          "execution_count": 13
        }
      ]
    },
    {
      "cell_type": "code",
      "metadata": {
        "id": "aiSfJ4eO3Kb2"
      },
      "source": [
        "df_test10=summary_df"
      ],
      "execution_count": 14,
      "outputs": []
    },
    {
      "cell_type": "code",
      "metadata": {
        "id": "tnA_2hv3amLy"
      },
      "source": [
        "def to_seconds(df,fps):\n",
        "  dict_sec={}\n",
        "  time_frames_list=[]\n",
        "  for i in df.columns:\n",
        "    if df[i].isna().sum()==df.shape[0]:\n",
        "      df=df.drop(columns=i)\n",
        "    else:\n",
        "      df[i]=df[i].dropna()\n",
        "      df[i]=[y/fps for y in df[i]]\n",
        "      df[i]=df[i].fillna(0)\n",
        "      df[i]=[int(x) for x in df[i]]\n",
        "      df[i]=[x-4 if x!=0 else 0 for x in df[i]] \n",
        "      df=df.drop_duplicates()\n",
        "      test_list = list(set(list(df[i])))\n",
        "      dict_sec[i]=test_list\n",
        "      time_frames_list=time_frames_list+test_list\n",
        "      time_frames_list = list(set(time_frames_list))\n",
        "  for i in range(3,len(time_frames_list)):\n",
        "    if time_frames_list[i-3]+3==time_frames_list[i]:\n",
        "      del time_frames_list[i-2:i]\n",
        "  return time_frames_list #dict_sec"
      ],
      "execution_count": 15,
      "outputs": []
    },
    {
      "cell_type": "code",
      "metadata": {
        "id": "2NEMK7St2cEX"
      },
      "source": [
        "cam = cv2.VideoCapture(video_input)\n",
        "fps = cam.get(cv2.CAP_PROP_FPS)\n",
        "cut_list=to_seconds(df_test10,fps)"
      ],
      "execution_count": 16,
      "outputs": []
    },
    {
      "cell_type": "code",
      "metadata": {
        "id": "2HLr9BytMGuj"
      },
      "source": [
        "del cut_list[0]\n",
        "del cut_list[-1]"
      ],
      "execution_count": 17,
      "outputs": []
    },
    {
      "cell_type": "code",
      "metadata": {
        "colab": {
          "base_uri": "https://localhost:8080/"
        },
        "id": "RDUOyN3GMdrV",
        "outputId": "3e9e690a-2504-40dd-efd3-0046b0b38be0"
      },
      "source": [
        "cut_list"
      ],
      "execution_count": 18,
      "outputs": [
        {
          "output_type": "execute_result",
          "data": {
            "text/plain": [
              "[2, 16]"
            ]
          },
          "metadata": {
            "tags": []
          },
          "execution_count": 18
        }
      ]
    },
    {
      "cell_type": "code",
      "metadata": {
        "colab": {
          "base_uri": "https://localhost:8080/"
        },
        "id": "O76IOFpMLGOX",
        "outputId": "2bf3ff1a-8fa6-425a-8433-9c0b67d8184a"
      },
      "source": [
        "from moviepy.video.io.ffmpeg_tools import ffmpeg_extract_subclip\n",
        "for j in range(0,len(cut_list)):\n",
        "  ffmpeg_extract_subclip(video_input, cut_list[j]-1,cut_list[j] +5, targetname='/content/'+str(j)+'Highlight'+'.mp4')"
      ],
      "execution_count": 23,
      "outputs": [
        {
          "output_type": "stream",
          "text": [
            "\n",
            "[MoviePy] Running:\n",
            ">>> /usr/bin/ffmpeg -y -i /content/drive/MyDrive/Capstone_606/Data/Out_six.mp4 -ss 1.00 -t 6.00 -vcodec copy -acodec copy /content/0Highlight.mp4\n",
            "... command successful.\n",
            "\n",
            "[MoviePy] Running:\n",
            ">>> /usr/bin/ffmpeg -y -i /content/drive/MyDrive/Capstone_606/Data/Out_six.mp4 -ss 15.00 -t 6.00 -vcodec copy -acodec copy /content/1Highlight.mp4\n",
            "... command successful.\n"
          ],
          "name": "stdout"
        }
      ]
    }
  ]
}